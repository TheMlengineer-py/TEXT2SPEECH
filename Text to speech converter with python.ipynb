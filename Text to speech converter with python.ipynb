{
 "cells": [
  {
   "cell_type": "markdown",
   "id": "0b68aa85",
   "metadata": {},
   "source": [
    "# Text-to-Speech Converter with Python"
   ]
  },
  {
   "cell_type": "code",
   "execution_count": 1,
   "id": "0c5eead1",
   "metadata": {},
   "outputs": [],
   "source": [
    "#building text to speech converter using pyttsx3 module library\n",
    "#import library\n",
    "\n",
    "import pyttsx3\n",
    "\n",
    "#Engine Instance\n",
    "#initiate the ‘init’ function in order to get an engine instance \n",
    "\n",
    "engine = pyttsx3.init()\n",
    "\n",
    "#Tell engine what to say\n",
    "#Using the ‘say’ method on the engine,input text we wish to be spoken\n",
    "\n",
    "engine.say('I am highly knowledgeable in providing Data Science and Artificial Intelligence solutions to business problems using SQL for database management and Python coding Programming language for Big data mining, data analytics, data cleaning, data wrangling, data extraction, nlp, probability, data manipulation, and visualisation, association pattern mining, cluster analysis, deep learning, Correlation analysis, data analytics, data pipeline, machine learning, machine learning engineer, forecasting, statistics, digital marketing, principal component analysis, predictive model, sentiment analysis, object oriented programming, feature engineering, cross validation, computer science, computer vision, ai, rest API, cloud computing, performance evaluation, software development, backend development, modelling, optimisation, performance tuning and model deployment into production, web, monitoring, cloud computing infrastructure, ai, agile, analytical, business intelligence and top-notch service delivery and strong analytical skills, web development, logging, debugging, optimization, testing, qa and APIs functionality, software engineer, product design, etl, front end development')\n",
    "\n",
    "#use the ‘run and wait’ method to process the voice commands\n",
    "\n",
    "engine.runAndWait()"
   ]
  }
 ],
 "metadata": {
  "kernelspec": {
   "display_name": "Python 3.9.7 64-bit",
   "language": "python",
   "name": "python3"
  },
  "language_info": {
   "codemirror_mode": {
    "name": "ipython",
    "version": 3
   },
   "file_extension": ".py",
   "mimetype": "text/x-python",
   "name": "python",
   "nbconvert_exporter": "python",
   "pygments_lexer": "ipython3",
   "version": "3.9.7"
  },
  "vscode": {
   "interpreter": {
    "hash": "1a64f954787cd6c49ae44ffbb2295060a51070908123d77830c4d50e306005fd"
   }
  }
 },
 "nbformat": 4,
 "nbformat_minor": 5
}
